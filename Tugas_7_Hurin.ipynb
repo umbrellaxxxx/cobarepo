{
  "nbformat": 4,
  "nbformat_minor": 0,
  "metadata": {
    "colab": {
      "name": "Tugas 7-Hurin.ipynb",
      "provenance": []
    },
    "kernelspec": {
      "name": "python3",
      "display_name": "Python 3"
    },
    "language_info": {
      "name": "python"
    }
  },
  "cells": [
    {
      "cell_type": "code",
      "metadata": {
        "id": "TAmHKX94cwaI"
      },
      "source": [
        "from sympy import *"
      ],
      "execution_count": 1,
      "outputs": []
    },
    {
      "cell_type": "markdown",
      "metadata": {
        "id": "AoDXfw8tfKQU"
      },
      "source": [
        "Hukum Identitas\n",
        "\n",
        "$A\\cup \\phi = A$"
      ]
    },
    {
      "cell_type": "code",
      "metadata": {
        "colab": {
          "base_uri": "https://localhost:8080/",
          "height": 37
        },
        "id": "YHId-12gfMVg",
        "outputId": "ff08e3cc-9bfc-4556-b005-ea975229bf0e"
      },
      "source": [
        "A = [1,2,3,4]\n",
        "B = EmptySet\n",
        "a = FiniteSet(*A)\n",
        "b = FiniteSet(*B)\n",
        "Equivalent(Union(a,b), a)"
      ],
      "execution_count": 36,
      "outputs": [
        {
          "output_type": "execute_result",
          "data": {
            "text/latex": "$\\displaystyle \\text{True}$",
            "text/plain": [
              "True"
            ]
          },
          "metadata": {},
          "execution_count": 36
        }
      ]
    },
    {
      "cell_type": "markdown",
      "metadata": {
        "id": "yypCCwnagYQl"
      },
      "source": [
        "Hukum null/dominansi\n",
        "\n",
        "$A\\cap \\phi = \\phi $"
      ]
    },
    {
      "cell_type": "code",
      "metadata": {
        "colab": {
          "base_uri": "https://localhost:8080/",
          "height": 37
        },
        "id": "J8RJ2luKgfFl",
        "outputId": "0ee6fa45-766f-4a75-c57a-9cb863434cfc"
      },
      "source": [
        "A = [1,2,3,4]\n",
        "B = EmptySet\n",
        "a = FiniteSet(*A)\n",
        "b = FiniteSet(*B)\n",
        "Equivalent(Intersection(a,b), b)"
      ],
      "execution_count": 37,
      "outputs": [
        {
          "output_type": "execute_result",
          "data": {
            "text/latex": "$\\displaystyle \\text{True}$",
            "text/plain": [
              "True"
            ]
          },
          "metadata": {},
          "execution_count": 37
        }
      ]
    },
    {
      "cell_type": "markdown",
      "metadata": {
        "id": "KKgNxsTagvVu"
      },
      "source": [
        "Hukum Komplement\n",
        "\n",
        "$A \\cup \\bar{A} = U$"
      ]
    },
    {
      "cell_type": "code",
      "metadata": {
        "colab": {
          "base_uri": "https://localhost:8080/",
          "height": 37
        },
        "id": "RC079r1VhGLX",
        "outputId": "a5fc1422-0d8d-4879-8759-782e220bf170"
      },
      "source": [
        "U = [1,2,3,4,5,6]\n",
        "A = [1,2,3,4]\n",
        "a = FiniteSet(*A)\n",
        "u = FiniteSet(*U)\n",
        "b = Complement (u,a)\n",
        "Equivalent(Union (a,b), u)"
      ],
      "execution_count": 38,
      "outputs": [
        {
          "output_type": "execute_result",
          "data": {
            "text/latex": "$\\displaystyle \\text{True}$",
            "text/plain": [
              "True"
            ]
          },
          "metadata": {},
          "execution_count": 38
        }
      ]
    },
    {
      "cell_type": "markdown",
      "metadata": {
        "id": "Z2XnMajrlLHw"
      },
      "source": [
        "Hukum Idempoten\n",
        "\n",
        "$A \\cup A = A$"
      ]
    },
    {
      "cell_type": "code",
      "metadata": {
        "colab": {
          "base_uri": "https://localhost:8080/",
          "height": 37
        },
        "id": "DV6iLv9BlNi4",
        "outputId": "1b57d844-dd80-456f-ab55-e1515b7eb73e"
      },
      "source": [
        "A = [1,2,3,4]\n",
        "a = FiniteSet(*A)\n",
        "Equivalent(Union(a,a), a)"
      ],
      "execution_count": 32,
      "outputs": [
        {
          "output_type": "execute_result",
          "data": {
            "text/latex": "$\\displaystyle \\text{True}$",
            "text/plain": [
              "True"
            ]
          },
          "metadata": {},
          "execution_count": 32
        }
      ]
    },
    {
      "cell_type": "markdown",
      "metadata": {
        "id": "BQN-n8eU-BA5"
      },
      "source": [
        "Hukum Involunsi\n",
        "\n",
        "$(\\overline{\\bar{A}}) = A$"
      ]
    },
    {
      "cell_type": "code",
      "metadata": {
        "colab": {
          "base_uri": "https://localhost:8080/",
          "height": 37
        },
        "id": "KDas0Qf4-C87",
        "outputId": "6d757d32-6044-4e33-b735-117494032345"
      },
      "source": [
        "U = [1,2,3,4,5,6]\n",
        "A = [1,2,3,4]\n",
        "a = FiniteSet(*A)\n",
        "u = FiniteSet(*U)\n",
        "b = Complement(u, Complement(u,a))\n",
        "Equivalent(b,a)"
      ],
      "execution_count": 40,
      "outputs": [
        {
          "output_type": "execute_result",
          "data": {
            "text/latex": "$\\displaystyle \\text{True}$",
            "text/plain": [
              "True"
            ]
          },
          "metadata": {},
          "execution_count": 40
        }
      ]
    },
    {
      "cell_type": "markdown",
      "metadata": {
        "id": "3yUJvUdGlWgF"
      },
      "source": [
        "Hukum Penyerapan\n",
        "\n",
        "$A \\cup (A \\cap B) = A$"
      ]
    },
    {
      "cell_type": "code",
      "metadata": {
        "colab": {
          "base_uri": "https://localhost:8080/",
          "height": 37
        },
        "id": "yA8YncIGlfDw",
        "outputId": "cbf0b6b3-f631-4524-d8bb-d02fc02eb652"
      },
      "source": [
        "A = [1,2,3,4,5,6]\n",
        "B = [2,4,6,8,10]\n",
        "a = FiniteSet(*A)\n",
        "b = FiniteSet(*B)\n",
        "Equivalent(Union(a, Intersection(a,b)), a)"
      ],
      "execution_count": 39,
      "outputs": [
        {
          "output_type": "execute_result",
          "data": {
            "text/latex": "$\\displaystyle \\text{True}$",
            "text/plain": [
              "True"
            ]
          },
          "metadata": {},
          "execution_count": 39
        }
      ]
    },
    {
      "cell_type": "markdown",
      "metadata": {
        "id": "UXKwbItAmJjA"
      },
      "source": [
        "Hukum Komutatif\n",
        "\n",
        "$A \\cup B = B \\cup A$"
      ]
    },
    {
      "cell_type": "code",
      "metadata": {
        "colab": {
          "base_uri": "https://localhost:8080/",
          "height": 37
        },
        "id": "kMflGTmLmMxZ",
        "outputId": "f5a88fa8-ff6b-4641-fd80-8a4c6736d402"
      },
      "source": [
        "A = [1,2,3,4,5,6]\n",
        "B = [2,4,6,8,10]\n",
        "a = FiniteSet(*A)\n",
        "b = FiniteSet(*B)\n",
        "\n",
        "Equivalent(Union(a,b), Union(b,a))"
      ],
      "execution_count": 31,
      "outputs": [
        {
          "output_type": "execute_result",
          "data": {
            "text/latex": "$\\displaystyle \\text{True}$",
            "text/plain": [
              "True"
            ]
          },
          "metadata": {},
          "execution_count": 31
        }
      ]
    },
    {
      "cell_type": "markdown",
      "metadata": {
        "id": "fHRMyHcUm7sj"
      },
      "source": [
        "Hukum Asosiatif\n",
        "\n",
        "$A \\cup (B\\cup C) = (A\\cup B)\\cup C$"
      ]
    },
    {
      "cell_type": "code",
      "metadata": {
        "colab": {
          "base_uri": "https://localhost:8080/",
          "height": 37
        },
        "id": "BSgKBrcMm_ib",
        "outputId": "4a0168de-8513-4149-c098-1e4d814de19d"
      },
      "source": [
        "A = [1,2,3,4,5,6]\n",
        "B = [2,4,6,8,10]\n",
        "C = [1,3,5,7,9]\n",
        "a = FiniteSet(*A)\n",
        "b = FiniteSet(*B)\n",
        "c = FiniteSet(*C)\n",
        "Equivalent(Union(a, Union(b,c)), Union(c, Union(a,b)))"
      ],
      "execution_count": 23,
      "outputs": [
        {
          "output_type": "execute_result",
          "data": {
            "text/latex": "$\\displaystyle \\text{True}$",
            "text/plain": [
              "True"
            ]
          },
          "metadata": {},
          "execution_count": 23
        }
      ]
    },
    {
      "cell_type": "markdown",
      "metadata": {
        "id": "RwtRXO3EnnUs"
      },
      "source": [
        "Hukum Distributif\n",
        "\n",
        "$A \\cap (B\\cup C) = (A \\cup B) \\cap (A\\cup C)$"
      ]
    },
    {
      "cell_type": "code",
      "metadata": {
        "colab": {
          "base_uri": "https://localhost:8080/",
          "height": 37
        },
        "id": "T8ZAfD3loLCS",
        "outputId": "1a546455-7760-442f-cc42-78aed55edc89"
      },
      "source": [
        "A = [1,2,3,4,5,6]\n",
        "B = [2,4,6,8,10]\n",
        "C = [1,3,5,7,9]\n",
        "a = FiniteSet(*A)\n",
        "b = FiniteSet(*B)\n",
        "c = FiniteSet(*C)\n",
        "Equivalent(Union(a, Intersection(b,c)), Intersection(Union(a,b), Union(a,c)))"
      ],
      "execution_count": 24,
      "outputs": [
        {
          "output_type": "execute_result",
          "data": {
            "text/latex": "$\\displaystyle \\text{True}$",
            "text/plain": [
              "True"
            ]
          },
          "metadata": {},
          "execution_count": 24
        }
      ]
    },
    {
      "cell_type": "markdown",
      "metadata": {
        "id": "JoRK-m_ro6P1"
      },
      "source": [
        "Hukum De Morgan\n",
        "\n",
        "$(\\overline{A\\cap B}) = \\bar{A} \\cup \\bar{B}$"
      ]
    },
    {
      "cell_type": "code",
      "metadata": {
        "colab": {
          "base_uri": "https://localhost:8080/",
          "height": 37
        },
        "id": "crFjTGfto-WW",
        "outputId": "31020eb3-1d10-485c-b84e-35253480f01a"
      },
      "source": [
        "U = [1,2,3,4,5,6]\n",
        "A = [1,3,5,7,9]\n",
        "B = [2,4,6,8,10]\n",
        "a = FiniteSet(*A)\n",
        "b = FiniteSet(*B)\n",
        "u = FiniteSet(*U)\n",
        "c = Union(a,b)\n",
        "d = Complement(u,a)\n",
        "e = Complement(u,b)\n",
        "Equivalent(Complement(u,c), Intersection(d,e))"
      ],
      "execution_count": 33,
      "outputs": [
        {
          "output_type": "execute_result",
          "data": {
            "text/latex": "$\\displaystyle \\text{True}$",
            "text/plain": [
              "True"
            ]
          },
          "metadata": {},
          "execution_count": 33
        }
      ]
    },
    {
      "cell_type": "markdown",
      "metadata": {
        "id": "aJqIRrz-q-Ub"
      },
      "source": [
        "Hukum 0/1\n",
        "\n",
        "$\\bar{\\phi } = U$"
      ]
    },
    {
      "cell_type": "code",
      "metadata": {
        "colab": {
          "base_uri": "https://localhost:8080/",
          "height": 37
        },
        "id": "4B4CoIRMrC2h",
        "outputId": "92cc605c-30d8-4a91-a9b3-199a931ce5ed"
      },
      "source": [
        "U = [1,2,3,4,5,6,7,8,9]\n",
        "A = EmptySet\n",
        "a = FiniteSet(*A)\n",
        "b = FiniteSet(*U)\n",
        "c = Complement(b,a)\n",
        "Equivalent(c,b)"
      ],
      "execution_count": 35,
      "outputs": [
        {
          "output_type": "execute_result",
          "data": {
            "text/latex": "$\\displaystyle \\text{True}$",
            "text/plain": [
              "True"
            ]
          },
          "metadata": {},
          "execution_count": 35
        }
      ]
    },
    {
      "cell_type": "markdown",
      "metadata": {
        "id": "iXedOQ_FeEcf"
      },
      "source": [
        "untuk no 2 tidak ada karena multiset tidak memiliki library dan pada library pyhthon himpunan hanya ada set\n"
      ]
    }
  ]
}